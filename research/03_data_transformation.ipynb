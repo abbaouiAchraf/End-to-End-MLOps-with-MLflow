{
 "cells": [
  {
   "cell_type": "code",
   "execution_count": 1,
   "metadata": {},
   "outputs": [
    {
     "data": {
      "text/plain": [
       "'f:\\\\work env\\\\End-to-End-MLOps-with-MLflow\\\\research'"
      ]
     },
     "execution_count": 1,
     "metadata": {},
     "output_type": "execute_result"
    }
   ],
   "source": [
    "import os\n",
    "%pwd"
   ]
  },
  {
   "cell_type": "code",
   "execution_count": 2,
   "metadata": {},
   "outputs": [],
   "source": [
    "os.chdir('../')"
   ]
  },
  {
   "cell_type": "code",
   "execution_count": 38,
   "metadata": {},
   "outputs": [],
   "source": [
    "from dataclasses import dataclass\n",
    "from pathlib import Path\n",
    "\n",
    "@dataclass(frozen=True)\n",
    "class DataTransformationConfig:\n",
    "  root_dir: Path\n",
    "  data_path: Path"
   ]
  },
  {
   "cell_type": "code",
   "execution_count": 39,
   "metadata": {},
   "outputs": [],
   "source": [
    "from MLOpsProject.constants import *\n",
    "from MLOpsProject.utils.common import read_yaml, create_directories"
   ]
  },
  {
   "cell_type": "code",
   "execution_count": 40,
   "metadata": {},
   "outputs": [],
   "source": [
    "# creating folders from the config file\n",
    "class ConfigurationManager:\n",
    "    def __init__(\n",
    "        self,\n",
    "        config_filepath = CONFIG_FILE_PATH,\n",
    "        params_filepath = PARAMS_FILE_PATH,\n",
    "        schema_filepath = SCHEMA_FILE_PATH):\n",
    "\n",
    "        self.config = read_yaml(config_filepath)\n",
    "        self.params = read_yaml(params_filepath)\n",
    "        self.schema = read_yaml(schema_filepath)\n",
    "\n",
    "        create_directories([self.config.artifacts_root])\n",
    "\n",
    "    def get_data_transformation_config(self) -> DataTransformationConfig:\n",
    "        config = self.config.data_transformation\n",
    "\n",
    "        create_directories([config.root_dir])\n",
    "\n",
    "        data_transformation_config = DataTransformationConfig(\n",
    "            root_dir=config.root_dir,\n",
    "            data_path=config.data_path,\n",
    "        )\n",
    "\n",
    "        return data_transformation_config"
   ]
  },
  {
   "cell_type": "code",
   "execution_count": 41,
   "metadata": {},
   "outputs": [],
   "source": [
    "import os\n",
    "from MLOpsProject import logger\n",
    "from sklearn.model_selection import train_test_split\n",
    "import pandas as pd\n",
    "from sklearn.preprocessing import StandardScaler\n",
    "from sklearn.preprocessing import LabelEncoder"
   ]
  },
  {
   "cell_type": "code",
   "execution_count": 51,
   "metadata": {},
   "outputs": [],
   "source": [
    "class DataTransformation:\n",
    "    def __init__(self, config: DataTransformationConfig):\n",
    "        self.config = config\n",
    "        self.data = pd.read_csv(self.config.data_path)\n",
    "    \n",
    "    # Adding functionalities: Scaler, Normalizer, etc.\n",
    "    def categoriacal_columns(self):\n",
    "        categorical_columns = []\n",
    "        for col in data.columns:\n",
    "            if data[col].dtype.name == \"object\":\n",
    "                categorical_columns.append(col)\n",
    "        return categorical_columns\n",
    "\n",
    "    def handling_missing_values(self):\n",
    "        for col in data.columns:\n",
    "            if data[col].isnull().any():\n",
    "                data[col].fillna(data[col].mean(), inplace=True)\n",
    "    \n",
    "    def handle_duplicates(self):\n",
    "        data.drop_duplicates(inplace=True)\n",
    "\n",
    "    def handling_imbalanced_data(self, X, y):\n",
    "        SMOTE = SMOTE(sample_strategy='minority', random_state=42)\n",
    "        X, y = SMOTE.fit_resample(X, y)\n",
    "\n",
    "    def handling_outliers(self):\n",
    "        pass\n",
    "        # TODO: Add outlier handling code later\n",
    "\n",
    "    def binning(self):\n",
    "        categoriacal_columns = self.categoriacal_columns()\n",
    "        for i in categoriacal_columns:\n",
    "            data[i] = pd.cut(data[i], bins=5, labels=False)\n",
    "\n",
    "    def encoding(self):\n",
    "        categoriacal_columns = self.categoriacal_columns()\n",
    "        label=LabelEncoder()\n",
    "        for i in categoriacal_columns:\n",
    "            data[i]=label.fit_transform(data[i])\n",
    "\n",
    "    def feature_scaling(self):\n",
    "        scaler = StandardScaler()\n",
    "        scaled_data = scaler.fit_transform(data)\n",
    "        self.data = scaled_data\n",
    "\n",
    "\n",
    "    def train_test_split(self):\n",
    "        train, test = train_test_split(data, test_size=0.2, random_state=42)\n",
    "\n",
    "        train.to_csv(os.path.join(self.config.root_dir, 'train.csv'), index=False)\n",
    "        test.to_csv(os.path.join(self.config.root_dir, 'test.csv'), index=False)\n",
    "\n",
    "        logger.info(\"splitted data into train and test set\")\n",
    "        logger.info(f\"train shape: {train.shape}, test shape: {test.shape}\")\n",
    "\n",
    "        "
   ]
  },
  {
   "cell_type": "code",
   "execution_count": 52,
   "metadata": {},
   "outputs": [
    {
     "name": "stdout",
     "output_type": "stream",
     "text": [
      "[2023-09-28 02:38:33,421: INFO: common: yaml file: config\\config.yaml loaded successfully]\n",
      "[2023-09-28 02:38:33,425: INFO: common: yaml file: params.yaml loaded successfully]\n",
      "[2023-09-28 02:38:33,428: INFO: common: yaml file: schema.yaml loaded successfully]\n",
      "[2023-09-28 02:38:33,729: INFO: common: directory is created at artifacts]\n",
      "[2023-09-28 02:38:33,738: INFO: common: directory is created at artifacts/data_transformation]\n",
      "[2023-09-28 02:38:33,906: INFO: 3531340085: splitted data into train and test set]\n",
      "[2023-09-28 02:38:33,906: INFO: 3531340085: train shape: (36168, 1), test shape: (9043, 1)]\n"
     ]
    }
   ],
   "source": [
    "try: \n",
    "    config_manager = ConfigurationManager()\n",
    "    data_transformation_config = config_manager.get_data_transformation_config()\n",
    "    data_transformation = DataTransformation(data_transformation_config)\n",
    "    data_transformation.handling_missing_values()\n",
    "    data_transformation.handle_duplicates()\n",
    "    # issue in handling imbalanced data function\n",
    "    # data_transformation.handling_imbalanced_data()\n",
    "    data_transformation.encoding()\n",
    "    data_transformation.feature_scaling()\n",
    "    data_transformation.train_test_split()\n",
    "except Exception as e:\n",
    "    logger.exception(e)\n",
    "    raise e"
   ]
  },
  {
   "cell_type": "code",
   "execution_count": null,
   "metadata": {},
   "outputs": [],
   "source": []
  }
 ],
 "metadata": {
  "kernelspec": {
   "display_name": "base",
   "language": "python",
   "name": "python3"
  },
  "language_info": {
   "codemirror_mode": {
    "name": "ipython",
    "version": 3
   },
   "file_extension": ".py",
   "mimetype": "text/x-python",
   "name": "python",
   "nbconvert_exporter": "python",
   "pygments_lexer": "ipython3",
   "version": "3.10.0"
  },
  "orig_nbformat": 4
 },
 "nbformat": 4,
 "nbformat_minor": 2
}
