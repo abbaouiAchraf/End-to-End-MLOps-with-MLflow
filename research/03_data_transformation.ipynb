{
 "cells": [
  {
   "cell_type": "code",
   "execution_count": 3,
   "metadata": {},
   "outputs": [
    {
     "data": {
      "text/plain": [
       "'f:\\\\work env\\\\End-to-End-MLOps-with-MLflow\\\\research'"
      ]
     },
     "execution_count": 3,
     "metadata": {},
     "output_type": "execute_result"
    }
   ],
   "source": [
    "import os\n",
    "%pwd"
   ]
  },
  {
   "cell_type": "code",
   "execution_count": 4,
   "metadata": {},
   "outputs": [],
   "source": [
    "os.chdir('../')"
   ]
  },
  {
   "cell_type": "code",
   "execution_count": 5,
   "metadata": {},
   "outputs": [],
   "source": [
    "from dataclasses import dataclass\n",
    "from pathlib import Path\n",
    "\n",
    "@dataclass(frozen=True)\n",
    "class DataTransformationConfig:\n",
    "  root_dir: Path\n",
    "  data_path: Path\n",
    "  schema: dict"
   ]
  },
  {
   "cell_type": "code",
   "execution_count": 6,
   "metadata": {},
   "outputs": [],
   "source": [
    "from MLOpsProject.constants import *\n",
    "from MLOpsProject.utils.common import read_yaml, create_directories"
   ]
  },
  {
   "cell_type": "code",
   "execution_count": 7,
   "metadata": {},
   "outputs": [],
   "source": [
    "# creating folders from the config file\n",
    "class ConfigurationManager:\n",
    "    def __init__(\n",
    "        self,\n",
    "        config_filepath = CONFIG_FILE_PATH,\n",
    "        params_filepath = PARAMS_FILE_PATH,\n",
    "        schema_filepath = SCHEMA_FILE_PATH):\n",
    "\n",
    "        self.config = read_yaml(config_filepath)\n",
    "        self.params = read_yaml(params_filepath)\n",
    "        self.schema = read_yaml(schema_filepath)\n",
    "\n",
    "        create_directories([self.config.artifacts_root])\n",
    "\n",
    "    def get_data_transformation_config(self) -> DataTransformationConfig:\n",
    "        config = self.config.data_transformation\n",
    "\n",
    "        create_directories([config.root_dir])\n",
    "\n",
    "        data_transformation_config = DataTransformationConfig(\n",
    "            root_dir=config.root_dir,\n",
    "            data_path=config.data_path,\n",
    "            schema=self.schema,\n",
    "        )\n",
    "\n",
    "        return data_transformation_config"
   ]
  },
  {
   "cell_type": "code",
   "execution_count": 13,
   "metadata": {},
   "outputs": [],
   "source": [
    "import os\n",
    "from MLOpsProject import logger\n",
    "from sklearn.model_selection import train_test_split\n",
    "import pandas as pd\n",
    "from sklearn.preprocessing import StandardScaler\n",
    "from sklearn.preprocessing import LabelEncoder\n",
    "from imblearn.over_sampling import SMOTE\n",
    "from sklearn.impute import SimpleImputer"
   ]
  },
  {
   "cell_type": "code",
   "execution_count": 32,
   "metadata": {},
   "outputs": [],
   "source": [
    "class DataTransformation:\n",
    "    def __init__(self, config):\n",
    "        self.config = config\n",
    "        self.data = pd.read_csv(self.config.data_path, sep=\";\")\n",
    "    \n",
    "    def categorical_columns(self):\n",
    "        categorical_columns = []\n",
    "        for col in self.data.columns:\n",
    "            if self.data[col].dtype == \"object\":\n",
    "                categorical_columns.append(col)\n",
    "        return categorical_columns\n",
    "\n",
    "    def handle_missing_values(self):\n",
    "        imputer = SimpleImputer(strategy='most_frequent')\n",
    "        self.data[self.categorical_columns()] = imputer.fit_transform(self.data[self.categorical_columns()])\n",
    "        self.data.fillna(self.data.mean(), inplace=True)\n",
    "    def handle_imbalanced_data(self):\n",
    "        target = self.config.schema.TARGET_COLUMN.name\n",
    "        X = self.data.drop(target, axis=1)\n",
    "        y = self.data[target]\n",
    "\n",
    "        smote = SMOTE(random_state=42)\n",
    "        X_resampled, y_resampled = smote.fit_resample(X, y)\n",
    "\n",
    "        # Create a new DataFrame with the resampled data\n",
    "        resampled_df = pd.concat([\n",
    "            pd.DataFrame(X_resampled, columns=X.columns),\n",
    "            pd.DataFrame(y_resampled, columns=[target])\n",
    "        ], axis=1)\n",
    "\n",
    "        self.data = resampled_df\n",
    "\n",
    "    def handle_duplicates(self):\n",
    "        self.data.drop_duplicates(inplace=True)\n",
    "\n",
    "    def handling_outliers(self):\n",
    "        pass  # TODO: Add outlier handling code later\n",
    "\n",
    "    def binning(self):\n",
    "        categorical_columns = self.categorical_columns()\n",
    "        for i in categorical_columns:\n",
    "            self.data[i] = pd.cut(self.data[i], bins=5, labels=False)\n",
    "\n",
    "    def encoding(self):\n",
    "        categorical_columns = self.categorical_columns()\n",
    "        label = LabelEncoder()\n",
    "        for i in categorical_columns:\n",
    "            self.data[i] = label.fit_transform(self.data[i])\n",
    "\n",
    "    def feature_scaling(self):\n",
    "        scaler = StandardScaler()\n",
    "        scalled_columns = self.data.columns.drop(self.config.schema.TARGET_COLUMN.name)\n",
    "        self.data[scalled_columns] = scaler.fit_transform(self.data[scalled_columns])\n",
    "\n",
    "    def train_test_split(self):\n",
    "        train, test = train_test_split(self.data, test_size=0.2, random_state=42)\n",
    "\n",
    "        train.to_csv(os.path.join(self.config.root_dir, 'train.csv'), index=False)\n",
    "        test.to_csv(os.path.join(self.config.root_dir, 'test.csv'), index=False)\n",
    "\n",
    "        logger.info(\"Splitted data into train and test set\")\n",
    "        logger.info(f\"Train shape: {train.shape}, Test shape: {test.shape}\")\n"
   ]
  },
  {
   "cell_type": "code",
   "execution_count": 33,
   "metadata": {},
   "outputs": [
    {
     "name": "stdout",
     "output_type": "stream",
     "text": [
      "[2023-09-28 16:26:10,733: INFO: common: yaml file: config\\config.yaml loaded successfully]\n",
      "[2023-09-28 16:26:10,747: INFO: common: yaml file: params.yaml loaded successfully]\n",
      "[2023-09-28 16:26:10,749: INFO: common: yaml file: schema.yaml loaded successfully]\n",
      "[2023-09-28 16:26:10,750: INFO: common: directory is created at artifacts]\n",
      "[2023-09-28 16:26:10,751: INFO: common: directory is created at artifacts/data_transformation]\n"
     ]
    },
    {
     "name": "stderr",
     "output_type": "stream",
     "text": [
      "C:\\Users\\achra\\AppData\\Local\\Temp\\ipykernel_16184\\3148803184.py:16: FutureWarning: The default value of numeric_only in DataFrame.mean is deprecated. In a future version, it will default to False. In addition, specifying 'numeric_only=None' is deprecated. Select only valid columns or specify the value of numeric_only to silence this warning.\n",
      "  self.data.fillna(self.data.mean(), inplace=True)\n"
     ]
    },
    {
     "name": "stdout",
     "output_type": "stream",
     "text": [
      "[2023-09-28 16:26:13,629: INFO: 3148803184: Splitted data into train and test set]\n",
      "[2023-09-28 16:26:13,630: INFO: 3148803184: Train shape: (36168, 17), Test shape: (9043, 17)]\n"
     ]
    }
   ],
   "source": [
    "try:\n",
    "    # Initialize configuration manager and get data transformation config\n",
    "    config_manager = ConfigurationManager()\n",
    "    data_transformation_config = config_manager.get_data_transformation_config()\n",
    "\n",
    "    # Initialize data transformation\n",
    "    data_transformation = DataTransformation(data_transformation_config)\n",
    "\n",
    "    # Apply data transformations\n",
    "    data_transformation.handle_duplicates()\n",
    "    data_transformation.handle_missing_values()\n",
    "    data_transformation.encoding()\n",
    "    data_transformation.feature_scaling()\n",
    "    # data_transformation.handle_imbalanced_data()\n",
    "    data_transformation.train_test_split()\n",
    "\n",
    "except Exception as e:\n",
    "    # Log the exception and re-raise it\n",
    "    logger.exception(\"An exception occurred during data transformation.\")\n",
    "    raise e\n"
   ]
  },
  {
   "cell_type": "code",
   "execution_count": null,
   "metadata": {},
   "outputs": [],
   "source": []
  },
  {
   "cell_type": "code",
   "execution_count": null,
   "metadata": {},
   "outputs": [],
   "source": []
  },
  {
   "cell_type": "code",
   "execution_count": null,
   "metadata": {},
   "outputs": [],
   "source": []
  }
 ],
 "metadata": {
  "kernelspec": {
   "display_name": "base",
   "language": "python",
   "name": "python3"
  },
  "language_info": {
   "codemirror_mode": {
    "name": "ipython",
    "version": 3
   },
   "file_extension": ".py",
   "mimetype": "text/x-python",
   "name": "python",
   "nbconvert_exporter": "python",
   "pygments_lexer": "ipython3",
   "version": "3.10.0"
  },
  "orig_nbformat": 4
 },
 "nbformat": 4,
 "nbformat_minor": 2
}
