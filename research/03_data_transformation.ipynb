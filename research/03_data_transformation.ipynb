{
 "cells": [
  {
   "cell_type": "code",
   "execution_count": 3,
   "metadata": {},
   "outputs": [
    {
     "data": {
      "text/plain": [
       "'f:\\\\work env\\\\End-to-End-MLOps-with-MLflow\\\\research'"
      ]
     },
     "execution_count": 3,
     "metadata": {},
     "output_type": "execute_result"
    }
   ],
   "source": [
    "import os\n",
    "%pwd"
   ]
  },
  {
   "cell_type": "code",
   "execution_count": 4,
   "metadata": {},
   "outputs": [],
   "source": [
    "os.chdir('../')"
   ]
  },
  {
   "cell_type": "code",
   "execution_count": 32,
   "metadata": {},
   "outputs": [],
   "source": [
    "from dataclasses import dataclass\n",
    "from pathlib import Path\n",
    "\n",
    "@dataclass(frozen=True)\n",
    "class DataTransformationConfig:\n",
    "  root_dir: Path\n",
    "  data_path: Path\n",
    "  schema: dict"
   ]
  },
  {
   "cell_type": "code",
   "execution_count": 33,
   "metadata": {},
   "outputs": [],
   "source": [
    "from MLOpsProject.constants import *\n",
    "from MLOpsProject.utils.common import read_yaml, create_directories"
   ]
  },
  {
   "cell_type": "code",
   "execution_count": 34,
   "metadata": {},
   "outputs": [],
   "source": [
    "# creating folders from the config file\n",
    "class ConfigurationManager:\n",
    "    def __init__(\n",
    "        self,\n",
    "        config_filepath = CONFIG_FILE_PATH,\n",
    "        params_filepath = PARAMS_FILE_PATH,\n",
    "        schema_filepath = SCHEMA_FILE_PATH):\n",
    "\n",
    "        self.config = read_yaml(config_filepath)\n",
    "        self.params = read_yaml(params_filepath)\n",
    "        self.schema = read_yaml(schema_filepath)\n",
    "\n",
    "        create_directories([self.config.artifacts_root])\n",
    "\n",
    "    def get_data_transformation_config(self) -> DataTransformationConfig:\n",
    "        config = self.config.data_transformation\n",
    "\n",
    "        create_directories([config.root_dir])\n",
    "\n",
    "        data_transformation_config = DataTransformationConfig(\n",
    "            root_dir=config.root_dir,\n",
    "            data_path=config.data_path,\n",
    "            schema=self.schema,\n",
    "        )\n",
    "\n",
    "        return data_transformation_config"
   ]
  },
  {
   "cell_type": "code",
   "execution_count": 49,
   "metadata": {},
   "outputs": [],
   "source": [
    "import os\n",
    "from MLOpsProject import logger\n",
    "from sklearn.model_selection import train_test_split\n",
    "import pandas as pd\n",
    "from sklearn.preprocessing import StandardScaler\n",
    "from sklearn.preprocessing import LabelEncoder\n",
    "from imblearn.over_sampling import SMOTE"
   ]
  },
  {
   "cell_type": "code",
   "execution_count": 58,
   "metadata": {},
   "outputs": [],
   "source": [
    "class DataTransformation:\n",
    "    def __init__(self, config: DataTransformationConfig):\n",
    "        self.config = config\n",
    "        self.data = pd.read_csv(self.config.data_path, sep=\";\")\n",
    "    \n",
    "    # Adding functionalities: Scaler, Normalizer, etc.\n",
    "    def categoriacal_columns(self):\n",
    "        categorical_columns = []\n",
    "        for col in data.columns:\n",
    "            if data[col].dtype.name == \"object\":\n",
    "                categorical_columns.append(col)\n",
    "        return categorical_columns\n",
    "\n",
    "    def handling_missing_values(self):\n",
    "        for col in self.data.columns:\n",
    "            if self.data[col].dtype == \"object\":\n",
    "                self.data[col].fillna(self.data[col].mode()[0], inplace=True)  # Filling with mode for categorical columns\n",
    "            else:\n",
    "                self.data[col].fillna(self.data[col].mean(), inplace=True)  # Filling with mean for numerical columns\n",
    "\n",
    "    def handle_imbalanced_data(self):\n",
    "        target = self.config.schema.TARGET_COLUMN.name\n",
    "        X = self.data.drop(target, axis=1)\n",
    "        y = self.data[target]\n",
    "\n",
    "        smote = SMOTE(random_state=42)\n",
    "        X_resampled, y_resampled = smote.fit_resample(X, y)\n",
    "\n",
    "        self.data = pd.concat([pd.DataFrame(X_resampled, columns=X.columns), pd.DataFrame(y_resampled, columns=[target])], axis=1)\n",
    "\n",
    "    \n",
    "    def handle_duplicates(self):\n",
    "        data.drop_duplicates(inplace=True)        \n",
    "\n",
    "    def handling_outliers(self):\n",
    "        pass\n",
    "        # TODO: Add outlier handling code later\n",
    "\n",
    "    def binning(self):\n",
    "        categoriacal_columns = self.categoriacal_columns()\n",
    "        for i in categoriacal_columns:\n",
    "            data[i] = pd.cut(data[i], bins=5, labels=False)\n",
    "\n",
    "    def encoding(self):\n",
    "        categoriacal_columns = self.categoriacal_columns()\n",
    "        label=LabelEncoder()\n",
    "        for i in categoriacal_columns:\n",
    "            data[i]=label.fit_transform(data[i])\n",
    "\n",
    "    def feature_scaling(self):\n",
    "        scaler = StandardScaler()\n",
    "        scaled_data = scaler.fit_transform(data)\n",
    "        self.data = scaled_data\n",
    "\n",
    "\n",
    "    def train_test_split(self):\n",
    "        train, test = train_test_split(data, test_size=0.2, random_state=42)\n",
    "\n",
    "        train.to_csv(os.path.join(self.config.root_dir, 'train.csv'), index=False)\n",
    "        test.to_csv(os.path.join(self.config.root_dir, 'test.csv'), index=False)\n",
    "\n",
    "        logger.info(\"splitted data into train and test set\")\n",
    "        logger.info(f\"train shape: {train.shape}, test shape: {test.shape}\")\n",
    "\n",
    "        "
   ]
  },
  {
   "cell_type": "code",
   "execution_count": 60,
   "metadata": {},
   "outputs": [
    {
     "name": "stdout",
     "output_type": "stream",
     "text": [
      "[2023-09-28 15:03:55,330: INFO: common: yaml file: config\\config.yaml loaded successfully]\n",
      "[2023-09-28 15:03:55,332: INFO: common: yaml file: params.yaml loaded successfully]\n",
      "[2023-09-28 15:03:55,334: INFO: common: yaml file: schema.yaml loaded successfully]\n",
      "[2023-09-28 15:03:55,335: INFO: common: directory is created at artifacts]\n",
      "[2023-09-28 15:03:55,336: INFO: common: directory is created at artifacts/data_transformation]\n",
      "[2023-09-28 15:03:55,621: INFO: 563559978: splitted data into train and test set]\n",
      "[2023-09-28 15:03:55,621: INFO: 563559978: train shape: (23147, 17), test shape: (5787, 17)]\n"
     ]
    }
   ],
   "source": [
    "try: \n",
    "    config_manager = ConfigurationManager()\n",
    "    data_transformation_config = config_manager.get_data_transformation_config()\n",
    "    data_transformation = DataTransformation(data_transformation_config)\n",
    "    data_transformation.handling_missing_values()\n",
    "    data_transformation.handle_duplicates()\n",
    "    data_transformation.encoding()\n",
    "    data_transformation.feature_scaling()\n",
    "    # data_transformation.handle_imbalanced_data()\n",
    "    data_transformation.train_test_split()\n",
    "except Exception as e:\n",
    "    logger.exception(e)\n",
    "    raise e"
   ]
  },
  {
   "cell_type": "code",
   "execution_count": null,
   "metadata": {},
   "outputs": [],
   "source": []
  }
 ],
 "metadata": {
  "kernelspec": {
   "display_name": "base",
   "language": "python",
   "name": "python3"
  },
  "language_info": {
   "codemirror_mode": {
    "name": "ipython",
    "version": 3
   },
   "file_extension": ".py",
   "mimetype": "text/x-python",
   "name": "python",
   "nbconvert_exporter": "python",
   "pygments_lexer": "ipython3",
   "version": "3.10.0"
  },
  "orig_nbformat": 4
 },
 "nbformat": 4,
 "nbformat_minor": 2
}
